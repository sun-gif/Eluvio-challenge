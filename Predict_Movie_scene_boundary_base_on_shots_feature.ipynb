{
  "nbformat": 4,
  "nbformat_minor": 0,
  "metadata": {
    "colab": {
      "name": "Predict Movie scene boundary base on shots feature.ipynb",
      "provenance": [],
      "machine_shape": "hm",
      "authorship_tag": "ABX9TyNUpTuFp1KmBTYZiqxpPOEz",
      "include_colab_link": true
    },
    "kernelspec": {
      "name": "python3",
      "display_name": "Python 3"
    },
    "accelerator": "GPU"
  },
  "cells": [
    {
      "cell_type": "markdown",
      "metadata": {
        "id": "view-in-github",
        "colab_type": "text"
      },
      "source": [
        "<a href=\"https://colab.research.google.com/github/sun-gif/Eluvio-challenge/blob/main/Predict_Movie_scene_boundary_base_on_shots_feature.ipynb\" target=\"_parent\"><img src=\"https://colab.research.google.com/assets/colab-badge.svg\" alt=\"Open In Colab\"/></a>"
      ]
    },
    {
      "cell_type": "markdown",
      "metadata": {
        "id": "ll6eyuqJjRcg"
      },
      "source": [
        "# Since Movie scence is time dependent, in other words it is sequence of shots,scence boundary not only depend on current shot features, it also depend on previous n shots. so in this notebook, I will use LSTM mode to predict the boundary since LSTM is good to handel time sequences data."
      ]
    },
    {
      "cell_type": "code",
      "metadata": {
        "id": "1X1Q4qj2Ipg_",
        "colab": {
          "resources": {
            "http://localhost:8080/nbextensions/google.colab/files.js": {
              "data": "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",
              "ok": true,
              "headers": [
                [
                  "content-type",
                  "application/javascript"
                ]
              ],
              "status": 200,
              "status_text": ""
            }
          },
          "base_uri": "https://localhost:8080/",
          "height": 140
        },
        "outputId": "285a2961-bbd8-494a-f8f0-86ca9cd9fc1c"
      },
      "source": [
        "from google.colab import files\r\n",
        "\r\n",
        "uploaded = files.upload()"
      ],
      "execution_count": null,
      "outputs": [
        {
          "output_type": "display_data",
          "data": {
            "text/html": [
              "\n",
              "     <input type=\"file\" id=\"files-d95f6c03-8b7d-45c1-a3be-57c7c2cfcdaa\" name=\"files[]\" multiple disabled\n",
              "        style=\"border:none\" />\n",
              "     <output id=\"result-d95f6c03-8b7d-45c1-a3be-57c7c2cfcdaa\">\n",
              "      Upload widget is only available when the cell has been executed in the\n",
              "      current browser session. Please rerun this cell to enable.\n",
              "      </output>\n",
              "      <script src=\"/nbextensions/google.colab/files.js\"></script> "
            ],
            "text/plain": [
              "<IPython.core.display.HTML object>"
            ]
          },
          "metadata": {
            "tags": []
          }
        },
        {
          "output_type": "stream",
          "text": [
            "Saving tt0068646.pkl to tt0068646 (6).pkl\n",
            "Saving tt0073195.pkl to tt0073195 (6).pkl\n",
            "Saving tt0078788.pkl to tt0078788 (6).pkl\n"
          ],
          "name": "stdout"
        }
      ]
    },
    {
      "cell_type": "markdown",
      "metadata": {
        "id": "wED5mlq8Yvo2"
      },
      "source": [
        "Computer limit for  large Ram,  only deal with 3 movie as an sample, 2 as trainning data,1 as testing data"
      ]
    },
    {
      "cell_type": "code",
      "metadata": {
        "id": "BNn2P1yEGXLN"
      },
      "source": [
        "import torch\r\n",
        "import torch.nn as nn\r\n",
        "import torchvision.transforms as transformT\r\n",
        "from numpy import array"
      ],
      "execution_count": null,
      "outputs": []
    },
    {
      "cell_type": "markdown",
      "metadata": {
        "id": "bOel57h6ZI5V"
      },
      "source": [
        "load pickle file, it is already processed as 4 beautiful tensor (audio,action,cast,place) , I will contact those as feature tensor, using ground truth as label, using 1000 as sequences windows(is that simliar to average scence shots?)"
      ]
    },
    {
      "cell_type": "code",
      "metadata": {
        "id": "bekkC-8t3h_B"
      },
      "source": [
        "import pickle\r\n",
        "def load_file(filename):\r\n",
        "\r\n",
        "  with open(filename,'rb') as f:\r\n",
        "      shots = pickle.load(f)\r\n",
        "      return shots\r\n",
        "\r\n",
        "\r\n"
      ],
      "execution_count": null,
      "outputs": []
    },
    {
      "cell_type": "code",
      "metadata": {
        "id": "ugq-TseWvTTl"
      },
      "source": [
        "def split_sequences(sequences, y,n_steps):\r\n",
        "\tX, Y = list(), list()\r\n",
        " \r\n",
        "\tfor i in range(len(sequences)-1):\r\n",
        "\t\t# find the end of this pattern\r\n",
        "\t\tend_ix = i + n_steps\r\n",
        "\t\t# check if we are beyond the dataset\r\n",
        "\t\tif end_ix > len(sequences)-1:\r\n",
        "\t\t\tbreak\r\n",
        "    \r\n",
        "\t\t# gather input and output parts of the pattern\r\n",
        "    \r\n",
        "\t\tseq_x, seq_y = sequences[i:end_ix,:], y[end_ix-1]\r\n",
        "\t\tX.append(seq_x)\r\n",
        "\t\tY.append(seq_y)\r\n",
        "\treturn array(X), array(Y)"
      ],
      "execution_count": null,
      "outputs": []
    },
    {
      "cell_type": "code",
      "metadata": {
        "id": "o8jSSeOgB20v"
      },
      "source": [
        "filenames=['tt0068646.pkl','tt0073195.pkl']\r\n",
        "def load_group(filenames):\r\n",
        "  movies=[]\r\n",
        "  for filename in filenames:\r\n",
        "    shots=load_file(filename)\r\n",
        "    \r\n",
        "    a=shots['action']\r\n",
        "    c=shots['cast']\r\n",
        "    au=shots['audio']\r\n",
        "    p=shots['place']\r\n",
        "    t=shots['scene_transition_boundary_ground_truth']\r\n",
        "    data=torch.cat((a, c, au,p), 1).numpy()\r\n",
        "    y=t.numpy()\r\n",
        "    X, Y= split_sequences(data,y, 1000)\r\n",
        "    X=torch.from_numpy(X)\r\n",
        "    Y=torch.from_numpy(Y)\r\n",
        "    movies.append((X,Y))\r\n",
        "  return movies"
      ],
      "execution_count": null,
      "outputs": []
    },
    {
      "cell_type": "code",
      "metadata": {
        "id": "GmyenZDYDZVr"
      },
      "source": [
        "movies=load_group(filenames)\r\n",
        "\r\n"
      ],
      "execution_count": null,
      "outputs": []
    },
    {
      "cell_type": "markdown",
      "metadata": {
        "id": "lGA3KQXwbOet"
      },
      "source": [
        "create an customized Multivariate LSTM Models"
      ]
    },
    {
      "cell_type": "code",
      "metadata": {
        "id": "09EcA97jDkL7"
      },
      "source": [
        "class LSTMModel(nn.Module):\r\n",
        "    def __init__(self, input_dim, hidden_dim, layer_dim, output_dim):\r\n",
        "        super(LSTMModel, self).__init__()\r\n",
        "        # Hidden dimensions\r\n",
        "        self.hidden_dim = hidden_dim\r\n",
        "\r\n",
        "        # Number of hidden layers\r\n",
        "        self.layer_dim = layer_dim\r\n",
        "\r\n",
        "        \r\n",
        "        # (batch_dim, seq_dim, feature_dim)\r\n",
        "        self.lstm = nn.LSTM(input_dim, hidden_dim, layer_dim, batch_first=True)\r\n",
        "\r\n",
        "        # Readout layer\r\n",
        "        self.fc = nn.Linear(hidden_dim, output_dim)\r\n",
        "\r\n",
        "    def forward(self, x):\r\n",
        "        # Initialize hidden state with zeros\r\n",
        "        h0 = torch.zeros(self.layer_dim, x.size(0), self.hidden_dim).requires_grad_()\r\n",
        "\r\n",
        "        # Initialize cell state\r\n",
        "        c0 = torch.zeros(self.layer_dim, x.size(0), self.hidden_dim).requires_grad_()\r\n",
        "\r\n",
        "        \r\n",
        "        out, (hn, cn) = self.lstm(x, (h0.detach(), c0.detach()))\r\n",
        "\r\n",
        "         \r\n",
        "        out = self.fc(out[:, -1, :]) \r\n",
        "        \r\n",
        "        return out"
      ],
      "execution_count": null,
      "outputs": []
    },
    {
      "cell_type": "markdown",
      "metadata": {
        "id": "z6LAkUaUbsY9"
      },
      "source": [
        "Train the model with above two movie, using CrossEntropyLoss() and Adam as optimizer"
      ]
    },
    {
      "cell_type": "code",
      "metadata": {
        "id": "5UgOcV-TD0L8",
        "colab": {
          "base_uri": "https://localhost:8080/"
        },
        "outputId": "04263aea-6ced-4188-9f1f-0044c25f6a1c"
      },
      "source": [
        "num_epochs = 10\r\n",
        "learning_rate = 0.1\r\n",
        "seq_length=1000\r\n",
        "input_dim = 3584\r\n",
        "hidden_dim = 2\r\n",
        "layer_dim = 1\r\n",
        "\r\n",
        "output_dim = 2\r\n",
        "\r\n",
        "lstm = LSTMModel(input_dim, hidden_dim, layer_dim, output_dim)\r\n",
        "criterion = nn.CrossEntropyLoss()\r\n",
        "\r\n",
        "optimizer = torch.optim.Adam(lstm.parameters(), lr=learning_rate)\r\n",
        "#optimizer = torch.optim.SGD(lstm.parameters(), lr=learning_rate)\r\n",
        "\r\n",
        "# Train the model\r\n",
        "for epoch in range(num_epochs):\r\n",
        "  running_loss=0\r\n",
        "  \r\n",
        "  for i in range(2):\r\n",
        "   X,Y=movies[i]\r\n",
        "   \r\n",
        "   outputs = lstm(X.float())\r\n",
        "   optimizer.zero_grad()\r\n",
        "    \r\n",
        "    # obtain the loss function\r\n",
        "   loss = criterion(outputs, Y.long())\r\n",
        "    \r\n",
        "   loss.backward()\r\n",
        "    \r\n",
        "   optimizer.step()\r\n",
        "    #if epoch % 100 == 0:\r\n",
        "   print(\"Epoch: %d, loss: %1.5f\" % (epoch, loss.item()))\r\n",
        "   \r\n",
        "   \r\n",
        "          "
      ],
      "execution_count": null,
      "outputs": [
        {
          "output_type": "stream",
          "text": [
            "Epoch: 0, loss: 1.47274\n",
            "Epoch: 0, loss: 1.35946\n",
            "Epoch: 1, loss: 1.09982\n",
            "Epoch: 1, loss: 1.08761\n",
            "Epoch: 2, loss: 0.89807\n",
            "Epoch: 2, loss: 0.85330\n",
            "Epoch: 3, loss: 0.73539\n",
            "Epoch: 3, loss: 0.66048\n",
            "Epoch: 4, loss: 0.61338\n",
            "Epoch: 4, loss: 0.50941\n",
            "Epoch: 5, loss: 0.52953\n",
            "Epoch: 5, loss: 0.39644\n",
            "Epoch: 6, loss: 0.47786\n",
            "Epoch: 6, loss: 0.31519\n",
            "Epoch: 7, loss: 0.45068\n",
            "Epoch: 7, loss: 0.25843\n",
            "Epoch: 8, loss: 0.44046\n",
            "Epoch: 8, loss: 0.21951\n",
            "Epoch: 9, loss: 0.44095\n",
            "Epoch: 9, loss: 0.19309\n"
          ],
          "name": "stdout"
        }
      ]
    },
    {
      "cell_type": "code",
      "metadata": {
        "id": "vSVWmVQ-Wqa6"
      },
      "source": [
        "testfiles=['tt0078788.pkl']\r\n",
        "testmovies=load_group(testfiles)"
      ],
      "execution_count": null,
      "outputs": []
    },
    {
      "cell_type": "markdown",
      "metadata": {
        "id": "9HLwOk8jcI7Y"
      },
      "source": [
        "Test on the third movie, the actuary is 97%, seems not bad"
      ]
    },
    {
      "cell_type": "code",
      "metadata": {
        "id": "F-WmFOWHX_sB",
        "colab": {
          "base_uri": "https://localhost:8080/"
        },
        "outputId": "b3f80969-9691-41a9-fc11-673a33c88d33"
      },
      "source": [
        "\r\n",
        "\r\n",
        "for i in range(1):\r\n",
        "   X,Y=testmovies[i]\r\n",
        "   \r\n",
        "   outputs = lstm(X.float())\r\n",
        "   optimizer.zero_grad()\r\n",
        "    \r\n",
        "    # obtain the loss function\r\n",
        "   loss = criterion(outputs, Y.long())\r\n",
        "    \r\n",
        "   loss.backward()\r\n",
        "    \r\n",
        "   optimizer.step()\r\n",
        "    #if epoch % 100 == 0:\r\n",
        "   print(\"Epoch: %d, loss: %1.5f\" % (epoch, loss.item()))\r\n",
        "   correct = 0\r\n",
        "   total = 0\r\n",
        "   lstm.eval()\r\n",
        "   y_pred = lstm(X.float())\r\n",
        "   test_predict=torch.argmax(y_pred, dim=-1)\r\n",
        "   total += Y.size(0)\r\n",
        "   correct += (test_predict== Y).sum()\r\n",
        "\r\n",
        "   accuracy = 100 * correct // total\r\n",
        "   print('Iteration: {}. Loss: {}. Accuracy: {}'.format(iter, loss.item(), accuracy))\r\n"
      ],
      "execution_count": null,
      "outputs": [
        {
          "output_type": "stream",
          "text": [
            "Epoch: 9, loss: 0.17662\n",
            "Iteration: <built-in function iter>. Loss: 0.17661793529987335. Accuracy: 97\n"
          ],
          "name": "stdout"
        }
      ]
    },
    {
      "cell_type": "markdown",
      "metadata": {
        "id": "jtp6SWuUMWv1"
      },
      "source": [
        "# Final Thoughts: Each director has different shoting style , action movie or comdey has differnt tempo. so the scence boundary may also denpend on those feature. so we may can optimzied the result in globling way combine some recomandation systems technique"
      ]
    }
  ]
}